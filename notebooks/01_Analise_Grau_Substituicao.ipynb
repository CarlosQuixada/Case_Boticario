{
 "cells": [
  {
   "cell_type": "code",
   "execution_count": 9,
   "id": "d054c177-32c3-4a4a-b5d7-e329ef2a4c05",
   "metadata": {},
   "outputs": [],
   "source": [
    "import pandas as pd\n",
    "import numpy as np"
   ]
  },
  {
   "cell_type": "markdown",
   "id": "7eadccfc-6e55-4bc2-8094-fc6c4dc4bdc6",
   "metadata": {},
   "source": [
    "# Carregar Dados"
   ]
  },
  {
   "cell_type": "code",
   "execution_count": 3,
   "id": "bbf383a5-b216-45ed-b3f5-204b56d9946b",
   "metadata": {},
   "outputs": [
    {
     "data": {
      "text/html": [
       "<div>\n",
       "<style scoped>\n",
       "    .dataframe tbody tr th:only-of-type {\n",
       "        vertical-align: middle;\n",
       "    }\n",
       "\n",
       "    .dataframe tbody tr th {\n",
       "        vertical-align: top;\n",
       "    }\n",
       "\n",
       "    .dataframe thead th {\n",
       "        text-align: right;\n",
       "    }\n",
       "</style>\n",
       "<table border=\"1\" class=\"dataframe\">\n",
       "  <thead>\n",
       "    <tr style=\"text-align: right;\">\n",
       "      <th></th>\n",
       "      <th>key_loja</th>\n",
       "      <th>cod_produto</th>\n",
       "      <th>dt_estoque</th>\n",
       "      <th>primeira_data</th>\n",
       "      <th>qt_estoque</th>\n",
       "      <th>is_ruptura</th>\n",
       "    </tr>\n",
       "  </thead>\n",
       "  <tbody>\n",
       "    <tr>\n",
       "      <th>0</th>\n",
       "      <td>1</td>\n",
       "      <td>1428</td>\n",
       "      <td>2024-01-01</td>\n",
       "      <td>2024-01-01</td>\n",
       "      <td>108.0</td>\n",
       "      <td>0</td>\n",
       "    </tr>\n",
       "    <tr>\n",
       "      <th>1</th>\n",
       "      <td>1</td>\n",
       "      <td>1428</td>\n",
       "      <td>2024-01-02</td>\n",
       "      <td>2024-01-01</td>\n",
       "      <td>108.0</td>\n",
       "      <td>0</td>\n",
       "    </tr>\n",
       "    <tr>\n",
       "      <th>2</th>\n",
       "      <td>1</td>\n",
       "      <td>1428</td>\n",
       "      <td>2024-01-03</td>\n",
       "      <td>2024-01-01</td>\n",
       "      <td>108.0</td>\n",
       "      <td>0</td>\n",
       "    </tr>\n",
       "    <tr>\n",
       "      <th>3</th>\n",
       "      <td>1</td>\n",
       "      <td>1428</td>\n",
       "      <td>2024-01-04</td>\n",
       "      <td>2024-01-01</td>\n",
       "      <td>108.0</td>\n",
       "      <td>0</td>\n",
       "    </tr>\n",
       "    <tr>\n",
       "      <th>4</th>\n",
       "      <td>1</td>\n",
       "      <td>1428</td>\n",
       "      <td>2024-01-05</td>\n",
       "      <td>2024-01-01</td>\n",
       "      <td>108.0</td>\n",
       "      <td>0</td>\n",
       "    </tr>\n",
       "  </tbody>\n",
       "</table>\n",
       "</div>"
      ],
      "text/plain": [
       "   key_loja  cod_produto  dt_estoque primeira_data  qt_estoque  is_ruptura\n",
       "0         1         1428  2024-01-01    2024-01-01       108.0           0\n",
       "1         1         1428  2024-01-02    2024-01-01       108.0           0\n",
       "2         1         1428  2024-01-03    2024-01-01       108.0           0\n",
       "3         1         1428  2024-01-04    2024-01-01       108.0           0\n",
       "4         1         1428  2024-01-05    2024-01-01       108.0           0"
      ]
     },
     "execution_count": 3,
     "metadata": {},
     "output_type": "execute_result"
    }
   ],
   "source": [
    "df_rupturas = pd.read_csv('../data/dados_ruptura.csv')\n",
    "df_rupturas['is_ruptura'] = df_rupturas['is_ruptura'].apply(int)\n",
    "df_rupturas.head()"
   ]
  },
  {
   "cell_type": "markdown",
   "id": "7051ba75-b10d-4cf4-aa35-cb228a55a986",
   "metadata": {},
   "source": [
    "# 1. Os similares estão ajudando a evitar perda de vendas em situações de ruptura?"
   ]
  },
  {
   "cell_type": "markdown",
   "id": "5b0b880c-966a-4e38-bc62-78ad0262511d",
   "metadata": {},
   "source": [
    "## 1.1. Quantas rupturas ocorreram? (SKU, loja, data)"
   ]
  },
  {
   "cell_type": "code",
   "execution_count": 10,
   "id": "b519c91d-6cc7-47e3-a865-ba96a1902f12",
   "metadata": {},
   "outputs": [
    {
     "name": "stdout",
     "output_type": "stream",
     "text": [
      "Total de eventos de ruptura: 113186 (40.04% dos registros de estoque)\n"
     ]
    }
   ],
   "source": [
    "total_rupturas = df_rupturas['is_ruptura'].sum()\n",
    "proporcao = np.round((total_rupturas/df_rupturas.shape[0])*100, 2)\n",
    "print(f\"Total de eventos de ruptura: {total_rupturas} ({proporcao}% dos registros de estoque)\")"
   ]
  },
  {
   "cell_type": "markdown",
   "id": "737e5550-cca4-4e28-b12a-290a11223183",
   "metadata": {},
   "source": [
    "### Histórico Rupturas"
   ]
  },
  {
   "cell_type": "code",
   "execution_count": 12,
   "id": "bbe47c0a-6dda-482b-a25e-3ace0fe51fa1",
   "metadata": {},
   "outputs": [
    {
     "ename": "ModuleNotFoundError",
     "evalue": "No module named 'matplotlib'",
     "output_type": "error",
     "traceback": [
      "\u001b[1;31m---------------------------------------------------------------------------\u001b[0m",
      "\u001b[1;31mModuleNotFoundError\u001b[0m                       Traceback (most recent call last)",
      "Cell \u001b[1;32mIn[12], line 1\u001b[0m\n\u001b[1;32m----> 1\u001b[0m \u001b[38;5;28;01mimport\u001b[39;00m\u001b[38;5;250m \u001b[39m\u001b[38;5;21;01mmatplotlib\u001b[39;00m\u001b[38;5;21;01m.\u001b[39;00m\u001b[38;5;21;01mpyplot\u001b[39;00m\u001b[38;5;250m \u001b[39m\u001b[38;5;28;01mas\u001b[39;00m\u001b[38;5;250m \u001b[39m\u001b[38;5;21;01mplt\u001b[39;00m\n\u001b[0;32m      3\u001b[0m rupturas_por_dia \u001b[38;5;241m=\u001b[39m df_rupturas[df_rupturas[\u001b[38;5;124m'\u001b[39m\u001b[38;5;124mis_ruptura\u001b[39m\u001b[38;5;124m'\u001b[39m]]\u001b[38;5;241m.\u001b[39mgroupby(\u001b[38;5;124m'\u001b[39m\u001b[38;5;124mdt_estoque\u001b[39m\u001b[38;5;124m'\u001b[39m)\u001b[38;5;241m.\u001b[39msize()\n\u001b[0;32m      5\u001b[0m plt\u001b[38;5;241m.\u001b[39mfigure(figsize\u001b[38;5;241m=\u001b[39m(\u001b[38;5;241m12\u001b[39m,\u001b[38;5;241m6\u001b[39m))\n",
      "\u001b[1;31mModuleNotFoundError\u001b[0m: No module named 'matplotlib'"
     ]
    }
   ],
   "source": [
    "import matplotlib.pyplot as plt\n",
    "\n",
    "rupturas_por_dia = df_rupturas[df_rupturas['is_ruptura']].groupby('dt_estoque').size()\n",
    "\n",
    "plt.figure(figsize=(12,6))\n",
    "rupturas_por_dia.plot()\n",
    "plt.title('Evolução das Rupturas ao Longo do Tempo')\n",
    "plt.xlabel('Data')\n",
    "plt.ylabel('Quantidade de Rupturas')\n",
    "plt.grid()\n",
    "plt.show()"
   ]
  },
  {
   "cell_type": "markdown",
   "id": "8205b42f-e9e8-4c66-8c25-a8792b57fb26",
   "metadata": {},
   "source": [
    "### Loja"
   ]
  },
  {
   "cell_type": "markdown",
   "id": "0494aafa-10b5-4c78-801c-b47632243e9b",
   "metadata": {},
   "source": [
    "### SKU"
   ]
  },
  {
   "cell_type": "code",
   "execution_count": null,
   "id": "2292bd36-2a8c-462a-95de-2e5c642cc86e",
   "metadata": {},
   "outputs": [],
   "source": [
    "## 1.2. Quantas dessas rupturas tinham similares recomendados disponíveis em estoque? ->"
   ]
  },
  {
   "cell_type": "code",
   "execution_count": null,
   "id": "196f110c-c586-4874-b2fd-f3243a8edaf0",
   "metadata": {},
   "outputs": [],
   "source": [
    "## 1.3. Quantas dessas situações resultaram em vendas de similares? ->"
   ]
  },
  {
   "cell_type": "code",
   "execution_count": null,
   "id": "bf37c5f7-590e-4c0c-b94b-d2a19e0dc0b0",
   "metadata": {},
   "outputs": [],
   "source": [
    "## 1.4. Qual a taxa de substituição geral? (substituição bem-sucedida ÷ total de rupturas) ->"
   ]
  },
  {
   "cell_type": "code",
   "execution_count": null,
   "id": "0e1801f6-54ad-4870-b45d-0e3cd8286bde",
   "metadata": {},
   "outputs": [],
   "source": [
    "## 1.5. Qual o tempo médio entre a ruptura e a venda do similar? ->"
   ]
  },
  {
   "cell_type": "code",
   "execution_count": null,
   "id": "d4986b6f-f848-4d15-8518-9b39753e882e",
   "metadata": {},
   "outputs": [],
   "source": [
    "# Em que contextos os similares são mais aceitos?"
   ]
  },
  {
   "cell_type": "code",
   "execution_count": null,
   "id": "228c652c-3d75-4efa-955e-b5d1361150f9",
   "metadata": {},
   "outputs": [],
   "source": [
    "## 2.1. A substituição é maior para quais rankings de similaridade? ->"
   ]
  },
  {
   "cell_type": "code",
   "execution_count": null,
   "id": "06c59e2b-97fe-4fbf-b6a7-072552c1f94c",
   "metadata": {},
   "outputs": [],
   "source": [
    "## 2.2. O canal de venda influencia na substituição? ->"
   ]
  },
  {
   "cell_type": "code",
   "execution_count": null,
   "id": "96677241-52a0-4984-9c5d-e5029421cd83",
   "metadata": {},
   "outputs": [],
   "source": [
    "## 2.3. Há variação por categoria, subcategoria ou linha do produto? ->"
   ]
  },
  {
   "cell_type": "code",
   "execution_count": null,
   "id": "dae2503d-9d11-4de4-9b7e-b7a3e30c7494",
   "metadata": {},
   "outputs": [],
   "source": [
    "## 2.4. O preço do similar afeta a substituição? (mais barato = mais aceito?) ->"
   ]
  },
  {
   "cell_type": "code",
   "execution_count": null,
   "id": "d2f23520-279a-467a-ac43-9e7c73425089",
   "metadata": {},
   "outputs": [],
   "source": [
    "## 2.5. Há diferenças por região (UF)? ->"
   ]
  },
  {
   "cell_type": "code",
   "execution_count": null,
   "id": "8a4608ca-8001-4074-a0cf-6539427a52bb",
   "metadata": {},
   "outputs": [],
   "source": [
    "## 2.6. A substituição é mais rápida em certos contextos? ->"
   ]
  },
  {
   "cell_type": "code",
   "execution_count": null,
   "id": "3fef3646-b792-4624-a8c2-6dab467c6f74",
   "metadata": {},
   "outputs": [],
   "source": [
    "# O que a empresa pode fazer com essas informações?"
   ]
  },
  {
   "cell_type": "code",
   "execution_count": null,
   "id": "4005dc64-7737-480f-b65d-4e57f85d9c5a",
   "metadata": {},
   "outputs": [],
   "source": [
    "## 3.1. Quais tipos de SKU se beneficiam mais de ter similares em estoque? ->"
   ]
  },
  {
   "cell_type": "code",
   "execution_count": null,
   "id": "3907825b-3d61-45ca-8f61-bafdf575282b",
   "metadata": {},
   "outputs": [],
   "source": [
    "## 3.2. Onde (lojas, categorias, canais) o mix de similares deve ser revisto? ->"
   ]
  },
  {
   "cell_type": "code",
   "execution_count": null,
   "id": "ddc141a6-685d-4747-b61c-bdfbd72e949b",
   "metadata": {},
   "outputs": [],
   "source": [
    "## 3.3. O algoritmo de recomendação precisa de ajustes? (ex: ranking 1 não converte bem?) ->"
   ]
  },
  {
   "cell_type": "code",
   "execution_count": null,
   "id": "2d258bc3-03c5-403e-9deb-20f9305bccec",
   "metadata": {},
   "outputs": [],
   "source": [
    "## 3.4. Como priorizar o reabastecimento de similares com maior taxa de conversão? ->"
   ]
  }
 ],
 "metadata": {
  "kernelspec": {
   "display_name": "Python 3 (ipykernel)",
   "language": "python",
   "name": "python3"
  },
  "language_info": {
   "codemirror_mode": {
    "name": "ipython",
    "version": 3
   },
   "file_extension": ".py",
   "mimetype": "text/x-python",
   "name": "python",
   "nbconvert_exporter": "python",
   "pygments_lexer": "ipython3",
   "version": "3.10.2"
  }
 },
 "nbformat": 4,
 "nbformat_minor": 5
}
