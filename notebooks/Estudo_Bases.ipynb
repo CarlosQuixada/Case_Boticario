{
 "cells": [
  {
   "cell_type": "code",
   "execution_count": 1,
   "id": "dfb5975f-8cbe-4b5f-aa99-0e08b139f611",
   "metadata": {},
   "outputs": [],
   "source": [
    "import pandas as pd"
   ]
  },
  {
   "cell_type": "code",
   "execution_count": 16,
   "id": "ce2c4f0b-f538-4cf1-9094-fc6e4b3a260d",
   "metadata": {},
   "outputs": [],
   "source": [
    "def verificar_qualidade(df, nome):\n",
    "    print(f\"\\n🔍 Análise de qualidade: {nome}\")\n",
    "    \n",
    "    # 1. Tipos de dados\n",
    "    print(\"\\n📌 Tipos de dados:\")\n",
    "    print(df.dtypes)\n",
    "\n",
    "    # 2. Missing values\n",
    "    print(\"\\n📉 Valores nulos por coluna:\")\n",
    "    print(df.isnull().sum())\n",
    "\n",
    "    # 3. Duplicatas\n",
    "    n_duplicates = df.duplicated().sum()\n",
    "    print(f\"\\n📎 Linhas duplicadas: {n_duplicates}\")\n",
    "\n",
    "    # 4. Preview\n",
    "    print(\"\\n🔎 Amostra dos dados:\")\n",
    "    print(df.head())\n",
    "\n",
    "# Verificar cada base\n",
    "\n",
    "# verificar_qualidade(tb_vendas, 'tb_vendas')\n"
   ]
  },
  {
   "cell_type": "code",
   "execution_count": 21,
   "id": "8865916d-be78-417d-b4fc-41ff79f94b8a",
   "metadata": {},
   "outputs": [],
   "source": [
    "def analisar_granularidade(df, nome_base, col_sku, col_loja, col_data):\n",
    "    print(f\"\\n🔍 Análise de granularidade - {nome_base}\")\n",
    "\n",
    "    # Converter data se necessário\n",
    "    if not pd.api.types.is_datetime64_any_dtype(df[col_data]):\n",
    "        df[col_data] = pd.to_datetime(df[col_data])\n",
    "\n",
    "    # 1. Número de linhas totais\n",
    "    print(f\"Total de linhas: {len(df)}\")\n",
    "\n",
    "    # 2. Quantas combinações únicas?\n",
    "    print(f\"Combinações únicas de [{col_sku}, {col_loja}, {col_data}]: {df[[col_sku, col_loja, col_data]].drop_duplicates().shape[0]}\")\n",
    "\n",
    "    # 3. Checar duplicações\n",
    "    duplicated_rows = df.duplicated(subset=[col_sku, col_loja, col_data]).sum()\n",
    "    print(f\"Duplicações por [{col_sku}, {col_loja}, {col_data}]: {duplicated_rows}\")\n",
    "\n",
    "    # 4. Amostragem por SKU-loja\n",
    "    print(\"\\nExemplo de datas disponíveis para um SKU e loja:\")\n",
    "    exemplo = df[[col_sku, col_loja]].drop_duplicates().sample(1).iloc[0]\n",
    "    exemplo_df = df[(df[col_sku] == exemplo[col_sku]) & (df[col_loja] == exemplo[col_loja])]\n",
    "    print(exemplo_df.sort_values(by=col_data)[[col_data]])\n",
    "\n",
    "    # 5. Frequência das datas\n",
    "    freq = df[col_data].value_counts().sort_index()\n",
    "    print(\"\\nDistribuição de registros por data (top 10):\")\n",
    "    print(freq.head(10))"
   ]
  },
  {
   "cell_type": "markdown",
   "id": "4924bd45-4b76-422b-8f87-31d7f9c42272",
   "metadata": {},
   "source": [
    "# Estoque"
   ]
  },
  {
   "cell_type": "code",
   "execution_count": 17,
   "id": "e3b751a5-98d2-431f-a1bc-f42787e7c1c8",
   "metadata": {},
   "outputs": [
    {
     "name": "stdout",
     "output_type": "stream",
     "text": [
      "\n",
      "🔍 Análise de qualidade: tb_estoques\n",
      "\n",
      "📌 Tipos de dados:\n",
      "key_loja        int64\n",
      "cod_produto     int64\n",
      "dt_estoque     object\n",
      "qt_estoque      int64\n",
      "dtype: object\n",
      "\n",
      "📉 Valores nulos por coluna:\n",
      "key_loja       0\n",
      "cod_produto    0\n",
      "dt_estoque     0\n",
      "qt_estoque     0\n",
      "dtype: int64\n",
      "\n",
      "📎 Linhas duplicadas: 0\n",
      "\n",
      "🔎 Amostra dos dados:\n",
      "   key_loja  cod_produto  dt_estoque  qt_estoque\n",
      "0         1         1428  2024-03-18         108\n",
      "1         1         1428  2024-12-13          24\n",
      "2         1         1428  2024-07-30          33\n",
      "3         1         1428  2024-07-22          34\n",
      "4         1         1428  2024-07-29          34\n"
     ]
    }
   ],
   "source": [
    "df_estoque = pd.read_csv('../data/raw/tb_estoques.csv')\n",
    "verificar_qualidade(df_estoque, 'tb_estoques')"
   ]
  },
  {
   "cell_type": "code",
   "execution_count": 22,
   "id": "a28060cc-4fda-422d-8554-45c57217a507",
   "metadata": {},
   "outputs": [
    {
     "name": "stdout",
     "output_type": "stream",
     "text": [
      "\n",
      "🔍 Análise de granularidade - tb_estoques\n",
      "Total de linhas: 260966\n",
      "Combinações únicas de [cod_produto, key_loja, dt_estoque]: 260966\n",
      "Duplicações por [cod_produto, key_loja, dt_estoque]: 0\n",
      "\n",
      "Exemplo de datas disponíveis para um SKU e loja:\n",
      "       dt_estoque\n",
      "124711 2024-01-01\n",
      "124503 2024-01-02\n",
      "124744 2024-01-03\n",
      "124532 2024-01-04\n",
      "124800 2024-01-05\n",
      "...           ...\n",
      "124759 2024-12-27\n",
      "124614 2024-12-28\n",
      "124770 2024-12-29\n",
      "124681 2024-12-30\n",
      "124534 2024-12-31\n",
      "\n",
      "[366 rows x 1 columns]\n",
      "\n",
      "Distribuição de registros por data (top 10):\n",
      "dt_estoque\n",
      "2024-01-01    693\n",
      "2024-01-02    693\n",
      "2024-01-03    693\n",
      "2024-01-04    693\n",
      "2024-01-05    693\n",
      "2024-01-06    693\n",
      "2024-01-07    693\n",
      "2024-01-08    693\n",
      "2024-01-09    693\n",
      "2024-01-10    693\n",
      "Name: count, dtype: int64\n"
     ]
    }
   ],
   "source": [
    "analisar_granularidade(df_estoque, 'tb_estoques', 'cod_produto', 'key_loja', 'dt_estoque')"
   ]
  },
  {
   "cell_type": "markdown",
   "id": "e13a2abc-e8ad-439d-96d9-aed432d41919",
   "metadata": {
    "jp-MarkdownHeadingCollapsed": true
   },
   "source": [
    "# Similares"
   ]
  },
  {
   "cell_type": "code",
   "execution_count": 18,
   "id": "fad98c06-ae82-429c-aae0-ce2f03ae153c",
   "metadata": {},
   "outputs": [
    {
     "name": "stdout",
     "output_type": "stream",
     "text": [
      "\n",
      "🔍 Análise de qualidade: tb_similares\n",
      "\n",
      "📌 Tipos de dados:\n",
      "cod_material          int64\n",
      "cod_material_recom    int64\n",
      "ranking               int64\n",
      "dtype: object\n",
      "\n",
      "📉 Valores nulos por coluna:\n",
      "cod_material          0\n",
      "cod_material_recom    0\n",
      "ranking               0\n",
      "dtype: int64\n",
      "\n",
      "📎 Linhas duplicadas: 0\n",
      "\n",
      "🔎 Amostra dos dados:\n",
      "   cod_material  cod_material_recom  ranking\n",
      "0         48635               25472        1\n",
      "1         50651               74932        1\n",
      "2         48062               77684        1\n",
      "3         49893               48730        1\n",
      "4         49943               84203        1\n"
     ]
    }
   ],
   "source": [
    "df_similares = pd.read_csv('../data/raw/tb_similares.csv')\n",
    "verificar_qualidade(df_similares, 'tb_similares')"
   ]
  },
  {
   "cell_type": "markdown",
   "id": "d19ca6da-2f80-44a7-ba70-e3eb0f9c983c",
   "metadata": {},
   "source": [
    "# Vendas"
   ]
  },
  {
   "cell_type": "code",
   "execution_count": 19,
   "id": "0b53e090-fadc-41f1-a5d0-3b5a4efe5718",
   "metadata": {},
   "outputs": [
    {
     "name": "stdout",
     "output_type": "stream",
     "text": [
      "\n",
      "🔍 Análise de qualidade: tb_vendas\n",
      "\n",
      "📌 Tipos de dados:\n",
      "dt_venda                  object\n",
      "cod_pedido                 int64\n",
      "canal                     object\n",
      "des_estado_franquia       object\n",
      "key_loja                   int64\n",
      "cod_material               int64\n",
      "categoria_produto        float64\n",
      "sub_categoria_produto      int64\n",
      "linha_produto              int64\n",
      "vlr_venda_tabelado       float64\n",
      "vlr_desconto             float64\n",
      "dtype: object\n",
      "\n",
      "📉 Valores nulos por coluna:\n",
      "dt_venda                   0\n",
      "cod_pedido                 0\n",
      "canal                      0\n",
      "des_estado_franquia        0\n",
      "key_loja                   0\n",
      "cod_material               0\n",
      "categoria_produto         34\n",
      "sub_categoria_produto      0\n",
      "linha_produto              0\n",
      "vlr_venda_tabelado         0\n",
      "vlr_desconto             270\n",
      "dtype: int64\n",
      "\n",
      "📎 Linhas duplicadas: 0\n",
      "\n",
      "🔎 Amostra dos dados:\n",
      "     dt_venda  cod_pedido    canal des_estado_franquia  key_loja  \\\n",
      "0  2024-05-10   386761455    FISCO                  SP         1   \n",
      "1  2024-03-25   377623716  DIGITAL                  SP         1   \n",
      "2  2024-03-19   376372149  DIGITAL                  SP         1   \n",
      "3  2024-10-23   414882456  DIGITAL                  SP         1   \n",
      "4  2024-02-27   371457908  DIGITAL                  SP         1   \n",
      "\n",
      "   cod_material  categoria_produto  sub_categoria_produto  linha_produto  \\\n",
      "0          1428              217.0                 422944         731659   \n",
      "1          1428              217.0                 422944         731659   \n",
      "2          1428              217.0                 422944         731659   \n",
      "3          1428              217.0                 422944         731659   \n",
      "4          1428              217.0                 422944         731659   \n",
      "\n",
      "   vlr_venda_tabelado  vlr_desconto  \n",
      "0               248.7          0.00  \n",
      "1               248.7         88.23  \n",
      "2               248.7         88.23  \n",
      "3               248.7          0.00  \n",
      "4               230.7          0.00  \n"
     ]
    }
   ],
   "source": [
    "df_vendas = pd.read_csv('../data/raw/tb_vendas.csv')\n",
    "verificar_qualidade(df_vendas, 'tb_vendas')"
   ]
  },
  {
   "cell_type": "code",
   "execution_count": 25,
   "id": "bf79a17e-06f4-4eb0-a015-99b52f0ba655",
   "metadata": {},
   "outputs": [
    {
     "name": "stdout",
     "output_type": "stream",
     "text": [
      "\n",
      "🔍 Análise de granularidade - tb_vendas\n",
      "Total de linhas: 203892\n",
      "Combinações únicas de [cod_material, key_loja, dt_venda]: 56689\n",
      "Duplicações por [cod_material, key_loja, dt_venda]: 147203\n",
      "\n",
      "Exemplo de datas disponíveis para um SKU e loja:\n",
      "        dt_venda\n",
      "44488 2024-01-22\n",
      "44530 2024-01-31\n",
      "44686 2024-01-31\n",
      "44889 2024-02-01\n",
      "45041 2024-02-01\n",
      "...          ...\n",
      "44275 2024-11-13\n",
      "45054 2024-11-13\n",
      "44336 2024-11-22\n",
      "45110 2024-11-25\n",
      "44654 2024-12-04\n",
      "\n",
      "[1269 rows x 1 columns]\n",
      "\n",
      "Distribuição de registros por data (top 10):\n",
      "dt_venda\n",
      "2024-01-02    230\n",
      "2024-01-03    388\n",
      "2024-01-04    381\n",
      "2024-01-05    544\n",
      "2024-01-06    322\n",
      "2024-01-08    536\n",
      "2024-01-09    782\n",
      "2024-01-10    639\n",
      "2024-01-11    723\n",
      "2024-01-12    824\n",
      "Name: count, dtype: int64\n"
     ]
    }
   ],
   "source": [
    "analisar_granularidade(df_vendas, 'tb_vendas', 'cod_material', 'key_loja', 'dt_venda')"
   ]
  },
  {
   "cell_type": "code",
   "execution_count": 13,
   "id": "0169a09a-0828-4684-b65f-d5d86f1a038f",
   "metadata": {},
   "outputs": [
    {
     "data": {
      "text/plain": [
       "('2024-01-02', '2024-12-31')"
      ]
     },
     "execution_count": 13,
     "metadata": {},
     "output_type": "execute_result"
    }
   ],
   "source": [
    "df_vendas['dt_venda'].min(), df_vendas['dt_venda'].max()"
   ]
  },
  {
   "cell_type": "code",
   "execution_count": 5,
   "id": "746c3357-1f76-4355-ba26-810282dd3f2d",
   "metadata": {},
   "outputs": [
    {
     "data": {
      "text/plain": [
       "canal\n",
       "FISCO      121822\n",
       "DIGITAL     82070\n",
       "Name: count, dtype: int64"
      ]
     },
     "execution_count": 5,
     "metadata": {},
     "output_type": "execute_result"
    }
   ],
   "source": [
    "df_vendas['canal'].value_counts()"
   ]
  },
  {
   "cell_type": "code",
   "execution_count": 6,
   "id": "2a5fb91e-948d-4463-a8a6-fc00e5cf9697",
   "metadata": {},
   "outputs": [
    {
     "data": {
      "text/plain": [
       "des_estado_franquia\n",
       "MG    71381\n",
       "SE    46946\n",
       "SP    39958\n",
       "PR    19207\n",
       "AL    15988\n",
       "GO    10412\n",
       "Name: count, dtype: int64"
      ]
     },
     "execution_count": 6,
     "metadata": {},
     "output_type": "execute_result"
    }
   ],
   "source": [
    "df_vendas['des_estado_franquia'].value_counts()"
   ]
  },
  {
   "cell_type": "code",
   "execution_count": 7,
   "id": "f8fc4099-0aa6-434e-90f3-5147309a9a41",
   "metadata": {},
   "outputs": [
    {
     "data": {
      "text/plain": [
       "categoria_produto\n",
       "217.0       151058\n",
       "157293.0     50459\n",
       "955075.0      2318\n",
       "415068.0        23\n",
       "Name: count, dtype: int64"
      ]
     },
     "execution_count": 7,
     "metadata": {},
     "output_type": "execute_result"
    }
   ],
   "source": [
    "df_vendas['categoria_produto'].value_counts()"
   ]
  },
  {
   "cell_type": "code",
   "execution_count": 8,
   "id": "14800ae5-b5ba-4fd5-8196-e232571c1f95",
   "metadata": {},
   "outputs": [
    {
     "data": {
      "text/plain": [
       "sub_categoria_produto\n",
       "422944    149451\n",
       "483679     43414\n",
       "311781      8892\n",
       "32688       2101\n",
       "69341         34\n",
       "Name: count, dtype: int64"
      ]
     },
     "execution_count": 8,
     "metadata": {},
     "output_type": "execute_result"
    }
   ],
   "source": [
    "df_vendas['sub_categoria_produto'].value_counts()"
   ]
  },
  {
   "cell_type": "code",
   "execution_count": 9,
   "id": "db37ee13-2657-4989-8c76-1d1d8ccfefe8",
   "metadata": {},
   "outputs": [
    {
     "data": {
      "text/plain": [
       "linha_produto\n",
       "731659    67869\n",
       "306420    47599\n",
       "390554    34482\n",
       "284036    18860\n",
       "85436      8665\n",
       "200277     6366\n",
       "736254     4357\n",
       "264366     4198\n",
       "212257     3556\n",
       "109471     2753\n",
       "120030     2083\n",
       "147447     1537\n",
       "504928      776\n",
       "511346      310\n",
       "22428       261\n",
       "880502      147\n",
       "964633       34\n",
       "991747       34\n",
       "18214         5\n",
       "Name: count, dtype: int64"
      ]
     },
     "execution_count": 9,
     "metadata": {},
     "output_type": "execute_result"
    }
   ],
   "source": [
    "df_vendas['linha_produto'].value_counts()"
   ]
  },
  {
   "cell_type": "code",
   "execution_count": 11,
   "id": "529567ce-acbd-4df5-b0c0-db03060158b9",
   "metadata": {},
   "outputs": [
    {
     "data": {
      "text/html": [
       "<div>\n",
       "<style scoped>\n",
       "    .dataframe tbody tr th:only-of-type {\n",
       "        vertical-align: middle;\n",
       "    }\n",
       "\n",
       "    .dataframe tbody tr th {\n",
       "        vertical-align: top;\n",
       "    }\n",
       "\n",
       "    .dataframe thead th {\n",
       "        text-align: right;\n",
       "    }\n",
       "</style>\n",
       "<table border=\"1\" class=\"dataframe\">\n",
       "  <thead>\n",
       "    <tr style=\"text-align: right;\">\n",
       "      <th></th>\n",
       "      <th>vlr_venda_tabelado</th>\n",
       "      <th>vlr_desconto</th>\n",
       "    </tr>\n",
       "  </thead>\n",
       "  <tbody>\n",
       "    <tr>\n",
       "      <th>count</th>\n",
       "      <td>203892.000000</td>\n",
       "      <td>203622.000000</td>\n",
       "    </tr>\n",
       "    <tr>\n",
       "      <th>mean</th>\n",
       "      <td>511.179565</td>\n",
       "      <td>88.904899</td>\n",
       "    </tr>\n",
       "    <tr>\n",
       "      <th>std</th>\n",
       "      <td>1571.562003</td>\n",
       "      <td>476.918028</td>\n",
       "    </tr>\n",
       "    <tr>\n",
       "      <th>min</th>\n",
       "      <td>134.700000</td>\n",
       "      <td>0.000000</td>\n",
       "    </tr>\n",
       "    <tr>\n",
       "      <th>25%</th>\n",
       "      <td>230.700000</td>\n",
       "      <td>0.000000</td>\n",
       "    </tr>\n",
       "    <tr>\n",
       "      <th>50%</th>\n",
       "      <td>389.700000</td>\n",
       "      <td>29.940000</td>\n",
       "    </tr>\n",
       "    <tr>\n",
       "      <th>75%</th>\n",
       "      <td>497.400000</td>\n",
       "      <td>97.140000</td>\n",
       "    </tr>\n",
       "    <tr>\n",
       "      <th>max</th>\n",
       "      <td>284415.300000</td>\n",
       "      <td>86711.040000</td>\n",
       "    </tr>\n",
       "  </tbody>\n",
       "</table>\n",
       "</div>"
      ],
      "text/plain": [
       "       vlr_venda_tabelado   vlr_desconto\n",
       "count       203892.000000  203622.000000\n",
       "mean           511.179565      88.904899\n",
       "std           1571.562003     476.918028\n",
       "min            134.700000       0.000000\n",
       "25%            230.700000       0.000000\n",
       "50%            389.700000      29.940000\n",
       "75%            497.400000      97.140000\n",
       "max         284415.300000   86711.040000"
      ]
     },
     "execution_count": 11,
     "metadata": {},
     "output_type": "execute_result"
    }
   ],
   "source": [
    "df_vendas[['vlr_venda_tabelado', 'vlr_desconto']].describe()"
   ]
  }
 ],
 "metadata": {
  "kernelspec": {
   "display_name": "Python 3 (ipykernel)",
   "language": "python",
   "name": "python3"
  },
  "language_info": {
   "codemirror_mode": {
    "name": "ipython",
    "version": 3
   },
   "file_extension": ".py",
   "mimetype": "text/x-python",
   "name": "python",
   "nbconvert_exporter": "python",
   "pygments_lexer": "ipython3",
   "version": "3.10.2"
  }
 },
 "nbformat": 4,
 "nbformat_minor": 5
}
