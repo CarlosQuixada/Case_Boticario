{
 "cells": [
  {
   "cell_type": "code",
   "execution_count": 1,
   "id": "dfb5975f-8cbe-4b5f-aa99-0e08b139f611",
   "metadata": {},
   "outputs": [],
   "source": [
    "import pandas as pd"
   ]
  },
  {
   "cell_type": "markdown",
   "id": "4924bd45-4b76-422b-8f87-31d7f9c42272",
   "metadata": {},
   "source": [
    "# Estoque"
   ]
  },
  {
   "cell_type": "code",
   "execution_count": 2,
   "id": "e3b751a5-98d2-431f-a1bc-f42787e7c1c8",
   "metadata": {},
   "outputs": [
    {
     "data": {
      "text/html": [
       "<div>\n",
       "<style scoped>\n",
       "    .dataframe tbody tr th:only-of-type {\n",
       "        vertical-align: middle;\n",
       "    }\n",
       "\n",
       "    .dataframe tbody tr th {\n",
       "        vertical-align: top;\n",
       "    }\n",
       "\n",
       "    .dataframe thead th {\n",
       "        text-align: right;\n",
       "    }\n",
       "</style>\n",
       "<table border=\"1\" class=\"dataframe\">\n",
       "  <thead>\n",
       "    <tr style=\"text-align: right;\">\n",
       "      <th></th>\n",
       "      <th>key_loja</th>\n",
       "      <th>cod_produto</th>\n",
       "      <th>dt_estoque</th>\n",
       "      <th>qt_estoque</th>\n",
       "    </tr>\n",
       "  </thead>\n",
       "  <tbody>\n",
       "    <tr>\n",
       "      <th>0</th>\n",
       "      <td>1</td>\n",
       "      <td>1428</td>\n",
       "      <td>2024-03-18</td>\n",
       "      <td>108</td>\n",
       "    </tr>\n",
       "    <tr>\n",
       "      <th>1</th>\n",
       "      <td>1</td>\n",
       "      <td>1428</td>\n",
       "      <td>2024-12-13</td>\n",
       "      <td>24</td>\n",
       "    </tr>\n",
       "    <tr>\n",
       "      <th>2</th>\n",
       "      <td>1</td>\n",
       "      <td>1428</td>\n",
       "      <td>2024-07-30</td>\n",
       "      <td>33</td>\n",
       "    </tr>\n",
       "    <tr>\n",
       "      <th>3</th>\n",
       "      <td>1</td>\n",
       "      <td>1428</td>\n",
       "      <td>2024-07-22</td>\n",
       "      <td>34</td>\n",
       "    </tr>\n",
       "    <tr>\n",
       "      <th>4</th>\n",
       "      <td>1</td>\n",
       "      <td>1428</td>\n",
       "      <td>2024-07-29</td>\n",
       "      <td>34</td>\n",
       "    </tr>\n",
       "  </tbody>\n",
       "</table>\n",
       "</div>"
      ],
      "text/plain": [
       "   key_loja  cod_produto  dt_estoque  qt_estoque\n",
       "0         1         1428  2024-03-18         108\n",
       "1         1         1428  2024-12-13          24\n",
       "2         1         1428  2024-07-30          33\n",
       "3         1         1428  2024-07-22          34\n",
       "4         1         1428  2024-07-29          34"
      ]
     },
     "execution_count": 2,
     "metadata": {},
     "output_type": "execute_result"
    }
   ],
   "source": [
    "df_estoque = pd.read_csv('../data/raw/tb_estoques.csv')\n",
    "df_estoque.head()"
   ]
  },
  {
   "cell_type": "markdown",
   "id": "e13a2abc-e8ad-439d-96d9-aed432d41919",
   "metadata": {},
   "source": [
    "# Similares"
   ]
  },
  {
   "cell_type": "code",
   "execution_count": 3,
   "id": "fad98c06-ae82-429c-aae0-ce2f03ae153c",
   "metadata": {},
   "outputs": [
    {
     "data": {
      "text/html": [
       "<div>\n",
       "<style scoped>\n",
       "    .dataframe tbody tr th:only-of-type {\n",
       "        vertical-align: middle;\n",
       "    }\n",
       "\n",
       "    .dataframe tbody tr th {\n",
       "        vertical-align: top;\n",
       "    }\n",
       "\n",
       "    .dataframe thead th {\n",
       "        text-align: right;\n",
       "    }\n",
       "</style>\n",
       "<table border=\"1\" class=\"dataframe\">\n",
       "  <thead>\n",
       "    <tr style=\"text-align: right;\">\n",
       "      <th></th>\n",
       "      <th>cod_material</th>\n",
       "      <th>cod_material_recom</th>\n",
       "      <th>ranking</th>\n",
       "    </tr>\n",
       "  </thead>\n",
       "  <tbody>\n",
       "    <tr>\n",
       "      <th>0</th>\n",
       "      <td>48635</td>\n",
       "      <td>25472</td>\n",
       "      <td>1</td>\n",
       "    </tr>\n",
       "    <tr>\n",
       "      <th>1</th>\n",
       "      <td>50651</td>\n",
       "      <td>74932</td>\n",
       "      <td>1</td>\n",
       "    </tr>\n",
       "    <tr>\n",
       "      <th>2</th>\n",
       "      <td>48062</td>\n",
       "      <td>77684</td>\n",
       "      <td>1</td>\n",
       "    </tr>\n",
       "    <tr>\n",
       "      <th>3</th>\n",
       "      <td>49893</td>\n",
       "      <td>48730</td>\n",
       "      <td>1</td>\n",
       "    </tr>\n",
       "    <tr>\n",
       "      <th>4</th>\n",
       "      <td>49943</td>\n",
       "      <td>84203</td>\n",
       "      <td>1</td>\n",
       "    </tr>\n",
       "  </tbody>\n",
       "</table>\n",
       "</div>"
      ],
      "text/plain": [
       "   cod_material  cod_material_recom  ranking\n",
       "0         48635               25472        1\n",
       "1         50651               74932        1\n",
       "2         48062               77684        1\n",
       "3         49893               48730        1\n",
       "4         49943               84203        1"
      ]
     },
     "execution_count": 3,
     "metadata": {},
     "output_type": "execute_result"
    }
   ],
   "source": [
    "df_similares = pd.read_csv('../data/raw/tb_similares.csv')\n",
    "df_similares.head()"
   ]
  },
  {
   "cell_type": "markdown",
   "id": "d19ca6da-2f80-44a7-ba70-e3eb0f9c983c",
   "metadata": {},
   "source": [
    "# Vendas"
   ]
  },
  {
   "cell_type": "code",
   "execution_count": 4,
   "id": "0b53e090-fadc-41f1-a5d0-3b5a4efe5718",
   "metadata": {},
   "outputs": [
    {
     "data": {
      "text/html": [
       "<div>\n",
       "<style scoped>\n",
       "    .dataframe tbody tr th:only-of-type {\n",
       "        vertical-align: middle;\n",
       "    }\n",
       "\n",
       "    .dataframe tbody tr th {\n",
       "        vertical-align: top;\n",
       "    }\n",
       "\n",
       "    .dataframe thead th {\n",
       "        text-align: right;\n",
       "    }\n",
       "</style>\n",
       "<table border=\"1\" class=\"dataframe\">\n",
       "  <thead>\n",
       "    <tr style=\"text-align: right;\">\n",
       "      <th></th>\n",
       "      <th>dt_venda</th>\n",
       "      <th>cod_pedido</th>\n",
       "      <th>canal</th>\n",
       "      <th>des_estado_franquia</th>\n",
       "      <th>key_loja</th>\n",
       "      <th>cod_material</th>\n",
       "      <th>categoria_produto</th>\n",
       "      <th>sub_categoria_produto</th>\n",
       "      <th>linha_produto</th>\n",
       "      <th>vlr_venda_tabelado</th>\n",
       "      <th>vlr_desconto</th>\n",
       "    </tr>\n",
       "  </thead>\n",
       "  <tbody>\n",
       "    <tr>\n",
       "      <th>0</th>\n",
       "      <td>2024-05-10</td>\n",
       "      <td>386761455</td>\n",
       "      <td>FISCO</td>\n",
       "      <td>SP</td>\n",
       "      <td>1</td>\n",
       "      <td>1428</td>\n",
       "      <td>217.0</td>\n",
       "      <td>422944</td>\n",
       "      <td>731659</td>\n",
       "      <td>248.7</td>\n",
       "      <td>0.00</td>\n",
       "    </tr>\n",
       "    <tr>\n",
       "      <th>1</th>\n",
       "      <td>2024-03-25</td>\n",
       "      <td>377623716</td>\n",
       "      <td>DIGITAL</td>\n",
       "      <td>SP</td>\n",
       "      <td>1</td>\n",
       "      <td>1428</td>\n",
       "      <td>217.0</td>\n",
       "      <td>422944</td>\n",
       "      <td>731659</td>\n",
       "      <td>248.7</td>\n",
       "      <td>88.23</td>\n",
       "    </tr>\n",
       "    <tr>\n",
       "      <th>2</th>\n",
       "      <td>2024-03-19</td>\n",
       "      <td>376372149</td>\n",
       "      <td>DIGITAL</td>\n",
       "      <td>SP</td>\n",
       "      <td>1</td>\n",
       "      <td>1428</td>\n",
       "      <td>217.0</td>\n",
       "      <td>422944</td>\n",
       "      <td>731659</td>\n",
       "      <td>248.7</td>\n",
       "      <td>88.23</td>\n",
       "    </tr>\n",
       "    <tr>\n",
       "      <th>3</th>\n",
       "      <td>2024-10-23</td>\n",
       "      <td>414882456</td>\n",
       "      <td>DIGITAL</td>\n",
       "      <td>SP</td>\n",
       "      <td>1</td>\n",
       "      <td>1428</td>\n",
       "      <td>217.0</td>\n",
       "      <td>422944</td>\n",
       "      <td>731659</td>\n",
       "      <td>248.7</td>\n",
       "      <td>0.00</td>\n",
       "    </tr>\n",
       "    <tr>\n",
       "      <th>4</th>\n",
       "      <td>2024-02-27</td>\n",
       "      <td>371457908</td>\n",
       "      <td>DIGITAL</td>\n",
       "      <td>SP</td>\n",
       "      <td>1</td>\n",
       "      <td>1428</td>\n",
       "      <td>217.0</td>\n",
       "      <td>422944</td>\n",
       "      <td>731659</td>\n",
       "      <td>230.7</td>\n",
       "      <td>0.00</td>\n",
       "    </tr>\n",
       "  </tbody>\n",
       "</table>\n",
       "</div>"
      ],
      "text/plain": [
       "     dt_venda  cod_pedido    canal des_estado_franquia  key_loja  \\\n",
       "0  2024-05-10   386761455    FISCO                  SP         1   \n",
       "1  2024-03-25   377623716  DIGITAL                  SP         1   \n",
       "2  2024-03-19   376372149  DIGITAL                  SP         1   \n",
       "3  2024-10-23   414882456  DIGITAL                  SP         1   \n",
       "4  2024-02-27   371457908  DIGITAL                  SP         1   \n",
       "\n",
       "   cod_material  categoria_produto  sub_categoria_produto  linha_produto  \\\n",
       "0          1428              217.0                 422944         731659   \n",
       "1          1428              217.0                 422944         731659   \n",
       "2          1428              217.0                 422944         731659   \n",
       "3          1428              217.0                 422944         731659   \n",
       "4          1428              217.0                 422944         731659   \n",
       "\n",
       "   vlr_venda_tabelado  vlr_desconto  \n",
       "0               248.7          0.00  \n",
       "1               248.7         88.23  \n",
       "2               248.7         88.23  \n",
       "3               248.7          0.00  \n",
       "4               230.7          0.00  "
      ]
     },
     "execution_count": 4,
     "metadata": {},
     "output_type": "execute_result"
    }
   ],
   "source": [
    "df_vendas = pd.read_csv('../data/raw/tb_vendas.csv')\n",
    "df_vendas.head()"
   ]
  },
  {
   "cell_type": "code",
   "execution_count": 13,
   "id": "0169a09a-0828-4684-b65f-d5d86f1a038f",
   "metadata": {},
   "outputs": [
    {
     "data": {
      "text/plain": [
       "('2024-01-02', '2024-12-31')"
      ]
     },
     "execution_count": 13,
     "metadata": {},
     "output_type": "execute_result"
    }
   ],
   "source": [
    "df_vendas['dt_venda'].min(), df_vendas['dt_venda'].max()"
   ]
  },
  {
   "cell_type": "code",
   "execution_count": 5,
   "id": "746c3357-1f76-4355-ba26-810282dd3f2d",
   "metadata": {},
   "outputs": [
    {
     "data": {
      "text/plain": [
       "canal\n",
       "FISCO      121822\n",
       "DIGITAL     82070\n",
       "Name: count, dtype: int64"
      ]
     },
     "execution_count": 5,
     "metadata": {},
     "output_type": "execute_result"
    }
   ],
   "source": [
    "df_vendas['canal'].value_counts()"
   ]
  },
  {
   "cell_type": "code",
   "execution_count": 6,
   "id": "2a5fb91e-948d-4463-a8a6-fc00e5cf9697",
   "metadata": {},
   "outputs": [
    {
     "data": {
      "text/plain": [
       "des_estado_franquia\n",
       "MG    71381\n",
       "SE    46946\n",
       "SP    39958\n",
       "PR    19207\n",
       "AL    15988\n",
       "GO    10412\n",
       "Name: count, dtype: int64"
      ]
     },
     "execution_count": 6,
     "metadata": {},
     "output_type": "execute_result"
    }
   ],
   "source": [
    "df_vendas['des_estado_franquia'].value_counts()"
   ]
  },
  {
   "cell_type": "code",
   "execution_count": 7,
   "id": "f8fc4099-0aa6-434e-90f3-5147309a9a41",
   "metadata": {},
   "outputs": [
    {
     "data": {
      "text/plain": [
       "categoria_produto\n",
       "217.0       151058\n",
       "157293.0     50459\n",
       "955075.0      2318\n",
       "415068.0        23\n",
       "Name: count, dtype: int64"
      ]
     },
     "execution_count": 7,
     "metadata": {},
     "output_type": "execute_result"
    }
   ],
   "source": [
    "df_vendas['categoria_produto'].value_counts()"
   ]
  },
  {
   "cell_type": "code",
   "execution_count": 8,
   "id": "14800ae5-b5ba-4fd5-8196-e232571c1f95",
   "metadata": {},
   "outputs": [
    {
     "data": {
      "text/plain": [
       "sub_categoria_produto\n",
       "422944    149451\n",
       "483679     43414\n",
       "311781      8892\n",
       "32688       2101\n",
       "69341         34\n",
       "Name: count, dtype: int64"
      ]
     },
     "execution_count": 8,
     "metadata": {},
     "output_type": "execute_result"
    }
   ],
   "source": [
    "df_vendas['sub_categoria_produto'].value_counts()"
   ]
  },
  {
   "cell_type": "code",
   "execution_count": 9,
   "id": "db37ee13-2657-4989-8c76-1d1d8ccfefe8",
   "metadata": {},
   "outputs": [
    {
     "data": {
      "text/plain": [
       "linha_produto\n",
       "731659    67869\n",
       "306420    47599\n",
       "390554    34482\n",
       "284036    18860\n",
       "85436      8665\n",
       "200277     6366\n",
       "736254     4357\n",
       "264366     4198\n",
       "212257     3556\n",
       "109471     2753\n",
       "120030     2083\n",
       "147447     1537\n",
       "504928      776\n",
       "511346      310\n",
       "22428       261\n",
       "880502      147\n",
       "964633       34\n",
       "991747       34\n",
       "18214         5\n",
       "Name: count, dtype: int64"
      ]
     },
     "execution_count": 9,
     "metadata": {},
     "output_type": "execute_result"
    }
   ],
   "source": [
    "df_vendas['linha_produto'].value_counts()"
   ]
  },
  {
   "cell_type": "code",
   "execution_count": 11,
   "id": "529567ce-acbd-4df5-b0c0-db03060158b9",
   "metadata": {},
   "outputs": [
    {
     "data": {
      "text/html": [
       "<div>\n",
       "<style scoped>\n",
       "    .dataframe tbody tr th:only-of-type {\n",
       "        vertical-align: middle;\n",
       "    }\n",
       "\n",
       "    .dataframe tbody tr th {\n",
       "        vertical-align: top;\n",
       "    }\n",
       "\n",
       "    .dataframe thead th {\n",
       "        text-align: right;\n",
       "    }\n",
       "</style>\n",
       "<table border=\"1\" class=\"dataframe\">\n",
       "  <thead>\n",
       "    <tr style=\"text-align: right;\">\n",
       "      <th></th>\n",
       "      <th>vlr_venda_tabelado</th>\n",
       "      <th>vlr_desconto</th>\n",
       "    </tr>\n",
       "  </thead>\n",
       "  <tbody>\n",
       "    <tr>\n",
       "      <th>count</th>\n",
       "      <td>203892.000000</td>\n",
       "      <td>203622.000000</td>\n",
       "    </tr>\n",
       "    <tr>\n",
       "      <th>mean</th>\n",
       "      <td>511.179565</td>\n",
       "      <td>88.904899</td>\n",
       "    </tr>\n",
       "    <tr>\n",
       "      <th>std</th>\n",
       "      <td>1571.562003</td>\n",
       "      <td>476.918028</td>\n",
       "    </tr>\n",
       "    <tr>\n",
       "      <th>min</th>\n",
       "      <td>134.700000</td>\n",
       "      <td>0.000000</td>\n",
       "    </tr>\n",
       "    <tr>\n",
       "      <th>25%</th>\n",
       "      <td>230.700000</td>\n",
       "      <td>0.000000</td>\n",
       "    </tr>\n",
       "    <tr>\n",
       "      <th>50%</th>\n",
       "      <td>389.700000</td>\n",
       "      <td>29.940000</td>\n",
       "    </tr>\n",
       "    <tr>\n",
       "      <th>75%</th>\n",
       "      <td>497.400000</td>\n",
       "      <td>97.140000</td>\n",
       "    </tr>\n",
       "    <tr>\n",
       "      <th>max</th>\n",
       "      <td>284415.300000</td>\n",
       "      <td>86711.040000</td>\n",
       "    </tr>\n",
       "  </tbody>\n",
       "</table>\n",
       "</div>"
      ],
      "text/plain": [
       "       vlr_venda_tabelado   vlr_desconto\n",
       "count       203892.000000  203622.000000\n",
       "mean           511.179565      88.904899\n",
       "std           1571.562003     476.918028\n",
       "min            134.700000       0.000000\n",
       "25%            230.700000       0.000000\n",
       "50%            389.700000      29.940000\n",
       "75%            497.400000      97.140000\n",
       "max         284415.300000   86711.040000"
      ]
     },
     "execution_count": 11,
     "metadata": {},
     "output_type": "execute_result"
    }
   ],
   "source": [
    "df_vendas[['vlr_venda_tabelado', 'vlr_desconto']].describe()"
   ]
  }
 ],
 "metadata": {
  "kernelspec": {
   "display_name": "Python 3 (ipykernel)",
   "language": "python",
   "name": "python3"
  },
  "language_info": {
   "codemirror_mode": {
    "name": "ipython",
    "version": 3
   },
   "file_extension": ".py",
   "mimetype": "text/x-python",
   "name": "python",
   "nbconvert_exporter": "python",
   "pygments_lexer": "ipython3",
   "version": "3.10.2"
  }
 },
 "nbformat": 4,
 "nbformat_minor": 5
}
