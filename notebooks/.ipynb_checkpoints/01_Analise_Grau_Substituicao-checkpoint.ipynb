{
 "cells": [
  {
   "cell_type": "code",
   "execution_count": 1,
   "id": "d054c177-32c3-4a4a-b5d7-e329ef2a4c05",
   "metadata": {},
   "outputs": [
    {
     "data": {
      "text/plain": [
       "'pt_BR.utf8'"
      ]
     },
     "execution_count": 1,
     "metadata": {},
     "output_type": "execute_result"
    }
   ],
   "source": [
    "import pandas as pd\n",
    "import numpy as np\n",
    "import matplotlib.pyplot as plt\n",
    "import locale\n",
    "locale.setlocale(locale.LC_TIME, 'pt_BR.utf8')"
   ]
  },
  {
   "cell_type": "code",
   "execution_count": 2,
   "id": "684263a3-12ac-4bf2-ba4a-9596c874eb7e",
   "metadata": {},
   "outputs": [],
   "source": [
    "def create_graph_line(series, title, x_label, y_label):\n",
    "    plt.figure(figsize=(12,6))\n",
    "    series.plot()\n",
    "    plt.title(title)\n",
    "    plt.xlabel(x_label)\n",
    "    plt.ylabel(y_label)\n",
    "    plt.grid()\n",
    "    plt.show()"
   ]
  },
  {
   "cell_type": "markdown",
   "id": "7eadccfc-6e55-4bc2-8094-fc6c4dc4bdc6",
   "metadata": {},
   "source": [
    "# Carregar Dados"
   ]
  },
  {
   "cell_type": "code",
   "execution_count": 3,
   "id": "4811e69a-bc93-469b-bf31-f648d1c99e6e",
   "metadata": {},
   "outputs": [],
   "source": [
    "dias_semana = {\n",
    "    'Monday': '1-segunda-feira',\n",
    "    'Tuesday': '2-terça-feira',\n",
    "    'Wednesday': '3-quarta-feira',\n",
    "    'Thursday': '4-quinta-feira',\n",
    "    'Friday': '5-sexta-feira',\n",
    "    'Saturday': '6-sábado',\n",
    "    'Sunday': '7-domingo'\n",
    "}\n",
    "\n"
   ]
  },
  {
   "cell_type": "code",
   "execution_count": 4,
   "id": "bbf383a5-b216-45ed-b3f5-204b56d9946b",
   "metadata": {},
   "outputs": [
    {
     "data": {
      "text/html": [
       "<div>\n",
       "<style scoped>\n",
       "    .dataframe tbody tr th:only-of-type {\n",
       "        vertical-align: middle;\n",
       "    }\n",
       "\n",
       "    .dataframe tbody tr th {\n",
       "        vertical-align: top;\n",
       "    }\n",
       "\n",
       "    .dataframe thead th {\n",
       "        text-align: right;\n",
       "    }\n",
       "</style>\n",
       "<table border=\"1\" class=\"dataframe\">\n",
       "  <thead>\n",
       "    <tr style=\"text-align: right;\">\n",
       "      <th></th>\n",
       "      <th>key_loja</th>\n",
       "      <th>cod_produto</th>\n",
       "      <th>dt_estoque</th>\n",
       "      <th>primeira_data</th>\n",
       "      <th>qt_estoque</th>\n",
       "      <th>is_ruptura</th>\n",
       "    </tr>\n",
       "  </thead>\n",
       "  <tbody>\n",
       "    <tr>\n",
       "      <th>0</th>\n",
       "      <td>1</td>\n",
       "      <td>1428</td>\n",
       "      <td>2024-01-01</td>\n",
       "      <td>2024-01-01</td>\n",
       "      <td>108.0</td>\n",
       "      <td>0</td>\n",
       "    </tr>\n",
       "    <tr>\n",
       "      <th>1</th>\n",
       "      <td>1</td>\n",
       "      <td>1428</td>\n",
       "      <td>2024-01-02</td>\n",
       "      <td>2024-01-01</td>\n",
       "      <td>108.0</td>\n",
       "      <td>0</td>\n",
       "    </tr>\n",
       "    <tr>\n",
       "      <th>2</th>\n",
       "      <td>1</td>\n",
       "      <td>1428</td>\n",
       "      <td>2024-01-03</td>\n",
       "      <td>2024-01-01</td>\n",
       "      <td>108.0</td>\n",
       "      <td>0</td>\n",
       "    </tr>\n",
       "    <tr>\n",
       "      <th>3</th>\n",
       "      <td>1</td>\n",
       "      <td>1428</td>\n",
       "      <td>2024-01-04</td>\n",
       "      <td>2024-01-01</td>\n",
       "      <td>108.0</td>\n",
       "      <td>0</td>\n",
       "    </tr>\n",
       "    <tr>\n",
       "      <th>4</th>\n",
       "      <td>1</td>\n",
       "      <td>1428</td>\n",
       "      <td>2024-01-05</td>\n",
       "      <td>2024-01-01</td>\n",
       "      <td>108.0</td>\n",
       "      <td>0</td>\n",
       "    </tr>\n",
       "  </tbody>\n",
       "</table>\n",
       "</div>"
      ],
      "text/plain": [
       "   key_loja  cod_produto dt_estoque primeira_data  qt_estoque  is_ruptura\n",
       "0         1         1428 2024-01-01    2024-01-01       108.0           0\n",
       "1         1         1428 2024-01-02    2024-01-01       108.0           0\n",
       "2         1         1428 2024-01-03    2024-01-01       108.0           0\n",
       "3         1         1428 2024-01-04    2024-01-01       108.0           0\n",
       "4         1         1428 2024-01-05    2024-01-01       108.0           0"
      ]
     },
     "execution_count": 4,
     "metadata": {},
     "output_type": "execute_result"
    }
   ],
   "source": [
    "df_rupturas = pd.read_csv('../data/processed/dados_ruptura.csv')\n",
    "df_rupturas['dt_estoque'] = pd.to_datetime(df_rupturas['dt_estoque'])\n",
    "# df_rupturas['dia_semana_en'] = df_rupturas['dt_estoque'].dt.day_name()\n",
    "# df_rupturas['ano_mes'] = df_rupturas['dt_estoque'].dt.strftime('%Y-%m')\n",
    "# df_rupturas['dia_semana_pt'] = df_rupturas['dia_semana_en'].map(dias_semana)\n",
    "df_rupturas['is_ruptura'] = df_rupturas['is_ruptura'].apply(int)\n",
    "df_rupturas.head()"
   ]
  },
  {
   "cell_type": "code",
   "execution_count": 5,
   "id": "6b6f6cd4-adf1-4a51-8a34-dc34f27c3e36",
   "metadata": {},
   "outputs": [
    {
     "data": {
      "text/html": [
       "<div>\n",
       "<style scoped>\n",
       "    .dataframe tbody tr th:only-of-type {\n",
       "        vertical-align: middle;\n",
       "    }\n",
       "\n",
       "    .dataframe tbody tr th {\n",
       "        vertical-align: top;\n",
       "    }\n",
       "\n",
       "    .dataframe thead th {\n",
       "        text-align: right;\n",
       "    }\n",
       "</style>\n",
       "<table border=\"1\" class=\"dataframe\">\n",
       "  <thead>\n",
       "    <tr style=\"text-align: right;\">\n",
       "      <th></th>\n",
       "      <th>cod_produto</th>\n",
       "      <th>cod_material_recom</th>\n",
       "      <th>ranking</th>\n",
       "    </tr>\n",
       "  </thead>\n",
       "  <tbody>\n",
       "    <tr>\n",
       "      <th>0</th>\n",
       "      <td>48635</td>\n",
       "      <td>25472</td>\n",
       "      <td>1</td>\n",
       "    </tr>\n",
       "    <tr>\n",
       "      <th>1</th>\n",
       "      <td>50651</td>\n",
       "      <td>74932</td>\n",
       "      <td>1</td>\n",
       "    </tr>\n",
       "    <tr>\n",
       "      <th>2</th>\n",
       "      <td>48062</td>\n",
       "      <td>77684</td>\n",
       "      <td>1</td>\n",
       "    </tr>\n",
       "    <tr>\n",
       "      <th>3</th>\n",
       "      <td>49893</td>\n",
       "      <td>48730</td>\n",
       "      <td>1</td>\n",
       "    </tr>\n",
       "    <tr>\n",
       "      <th>4</th>\n",
       "      <td>49943</td>\n",
       "      <td>84203</td>\n",
       "      <td>1</td>\n",
       "    </tr>\n",
       "  </tbody>\n",
       "</table>\n",
       "</div>"
      ],
      "text/plain": [
       "   cod_produto  cod_material_recom  ranking\n",
       "0        48635               25472        1\n",
       "1        50651               74932        1\n",
       "2        48062               77684        1\n",
       "3        49893               48730        1\n",
       "4        49943               84203        1"
      ]
     },
     "execution_count": 5,
     "metadata": {},
     "output_type": "execute_result"
    }
   ],
   "source": [
    "df_similares = pd.read_csv('../data/raw/tb_similares.csv')\n",
    "df_similares.rename(columns={\"cod_material\": \"cod_produto\"}, inplace=True)\n",
    "df_similares.head()"
   ]
  },
  {
   "cell_type": "code",
   "execution_count": 6,
   "id": "cf5a835a-2834-4c12-a2fc-f6b3b0fe0b51",
   "metadata": {
    "scrolled": true
   },
   "outputs": [
    {
     "data": {
      "text/html": [
       "<div>\n",
       "<style scoped>\n",
       "    .dataframe tbody tr th:only-of-type {\n",
       "        vertical-align: middle;\n",
       "    }\n",
       "\n",
       "    .dataframe tbody tr th {\n",
       "        vertical-align: top;\n",
       "    }\n",
       "\n",
       "    .dataframe thead th {\n",
       "        text-align: right;\n",
       "    }\n",
       "</style>\n",
       "<table border=\"1\" class=\"dataframe\">\n",
       "  <thead>\n",
       "    <tr style=\"text-align: right;\">\n",
       "      <th></th>\n",
       "      <th>key_loja</th>\n",
       "      <th>cod_produto</th>\n",
       "      <th>dt_estoque</th>\n",
       "      <th>qt_estoque</th>\n",
       "    </tr>\n",
       "  </thead>\n",
       "  <tbody>\n",
       "    <tr>\n",
       "      <th>0</th>\n",
       "      <td>1</td>\n",
       "      <td>1428</td>\n",
       "      <td>2024-03-18</td>\n",
       "      <td>108</td>\n",
       "    </tr>\n",
       "    <tr>\n",
       "      <th>1</th>\n",
       "      <td>1</td>\n",
       "      <td>1428</td>\n",
       "      <td>2024-12-13</td>\n",
       "      <td>24</td>\n",
       "    </tr>\n",
       "    <tr>\n",
       "      <th>2</th>\n",
       "      <td>1</td>\n",
       "      <td>1428</td>\n",
       "      <td>2024-07-30</td>\n",
       "      <td>33</td>\n",
       "    </tr>\n",
       "    <tr>\n",
       "      <th>3</th>\n",
       "      <td>1</td>\n",
       "      <td>1428</td>\n",
       "      <td>2024-07-22</td>\n",
       "      <td>34</td>\n",
       "    </tr>\n",
       "    <tr>\n",
       "      <th>4</th>\n",
       "      <td>1</td>\n",
       "      <td>1428</td>\n",
       "      <td>2024-07-29</td>\n",
       "      <td>34</td>\n",
       "    </tr>\n",
       "  </tbody>\n",
       "</table>\n",
       "</div>"
      ],
      "text/plain": [
       "   key_loja  cod_produto dt_estoque  qt_estoque\n",
       "0         1         1428 2024-03-18         108\n",
       "1         1         1428 2024-12-13          24\n",
       "2         1         1428 2024-07-30          33\n",
       "3         1         1428 2024-07-22          34\n",
       "4         1         1428 2024-07-29          34"
      ]
     },
     "execution_count": 6,
     "metadata": {},
     "output_type": "execute_result"
    }
   ],
   "source": [
    "df_estoque = pd.read_csv('../data/raw/tb_estoques.csv')\n",
    "df_estoque['dt_estoque'] = pd.to_datetime(df_estoque['dt_estoque'])\n",
    "df_estoque.head()"
   ]
  },
  {
   "cell_type": "markdown",
   "id": "3a3d5841-fa9a-4eb6-b22c-fea32f3af36c",
   "metadata": {},
   "source": [
    "# Para cada ruptura, verificar se há similares recomendados com estoque > 0 na mesma loja/data"
   ]
  },
  {
   "cell_type": "code",
   "execution_count": 7,
   "id": "bf4ad751-6720-492f-8d01-b1b7f9428dc7",
   "metadata": {},
   "outputs": [
    {
     "data": {
      "text/html": [
       "<div>\n",
       "<style scoped>\n",
       "    .dataframe tbody tr th:only-of-type {\n",
       "        vertical-align: middle;\n",
       "    }\n",
       "\n",
       "    .dataframe tbody tr th {\n",
       "        vertical-align: top;\n",
       "    }\n",
       "\n",
       "    .dataframe thead th {\n",
       "        text-align: right;\n",
       "    }\n",
       "</style>\n",
       "<table border=\"1\" class=\"dataframe\">\n",
       "  <thead>\n",
       "    <tr style=\"text-align: right;\">\n",
       "      <th></th>\n",
       "      <th>key_loja</th>\n",
       "      <th>cod_produto</th>\n",
       "      <th>dt_estoque</th>\n",
       "      <th>primeira_data</th>\n",
       "      <th>qt_estoque</th>\n",
       "      <th>is_ruptura</th>\n",
       "      <th>cod_material_recom</th>\n",
       "      <th>ranking</th>\n",
       "    </tr>\n",
       "  </thead>\n",
       "  <tbody>\n",
       "    <tr>\n",
       "      <th>0</th>\n",
       "      <td>1</td>\n",
       "      <td>1428</td>\n",
       "      <td>2024-01-01</td>\n",
       "      <td>2024-01-01</td>\n",
       "      <td>108.0</td>\n",
       "      <td>0</td>\n",
       "      <td>1650.0</td>\n",
       "      <td>1.0</td>\n",
       "    </tr>\n",
       "    <tr>\n",
       "      <th>1</th>\n",
       "      <td>1</td>\n",
       "      <td>1428</td>\n",
       "      <td>2024-01-01</td>\n",
       "      <td>2024-01-01</td>\n",
       "      <td>108.0</td>\n",
       "      <td>0</td>\n",
       "      <td>1640.0</td>\n",
       "      <td>2.0</td>\n",
       "    </tr>\n",
       "    <tr>\n",
       "      <th>2</th>\n",
       "      <td>1</td>\n",
       "      <td>1428</td>\n",
       "      <td>2024-01-01</td>\n",
       "      <td>2024-01-01</td>\n",
       "      <td>108.0</td>\n",
       "      <td>0</td>\n",
       "      <td>48282.0</td>\n",
       "      <td>3.0</td>\n",
       "    </tr>\n",
       "    <tr>\n",
       "      <th>3</th>\n",
       "      <td>1</td>\n",
       "      <td>1428</td>\n",
       "      <td>2024-01-02</td>\n",
       "      <td>2024-01-01</td>\n",
       "      <td>108.0</td>\n",
       "      <td>0</td>\n",
       "      <td>1650.0</td>\n",
       "      <td>1.0</td>\n",
       "    </tr>\n",
       "    <tr>\n",
       "      <th>4</th>\n",
       "      <td>1</td>\n",
       "      <td>1428</td>\n",
       "      <td>2024-01-02</td>\n",
       "      <td>2024-01-01</td>\n",
       "      <td>108.0</td>\n",
       "      <td>0</td>\n",
       "      <td>1640.0</td>\n",
       "      <td>2.0</td>\n",
       "    </tr>\n",
       "  </tbody>\n",
       "</table>\n",
       "</div>"
      ],
      "text/plain": [
       "   key_loja  cod_produto dt_estoque primeira_data  qt_estoque  is_ruptura  \\\n",
       "0         1         1428 2024-01-01    2024-01-01       108.0           0   \n",
       "1         1         1428 2024-01-01    2024-01-01       108.0           0   \n",
       "2         1         1428 2024-01-01    2024-01-01       108.0           0   \n",
       "3         1         1428 2024-01-02    2024-01-01       108.0           0   \n",
       "4         1         1428 2024-01-02    2024-01-01       108.0           0   \n",
       "\n",
       "   cod_material_recom  ranking  \n",
       "0              1650.0      1.0  \n",
       "1              1640.0      2.0  \n",
       "2             48282.0      3.0  \n",
       "3              1650.0      1.0  \n",
       "4              1640.0      2.0  "
      ]
     },
     "execution_count": 7,
     "metadata": {},
     "output_type": "execute_result"
    }
   ],
   "source": [
    "# 1. Juntar ruptura com similares recomendados\n",
    "df_rupturas_similares = df_rupturas.merge(\n",
    "    df_similares,\n",
    "    on='cod_produto',  # SKU em ruptura\n",
    "    how='left'\n",
    ")\n"
   ]
  },
  {
   "cell_type": "code",
   "execution_count": 22,
   "id": "5a5930a2-f198-4f79-bfd9-7d864146abc9",
   "metadata": {},
   "outputs": [
    {
     "data": {
      "text/html": [
       "<div>\n",
       "<style scoped>\n",
       "    .dataframe tbody tr th:only-of-type {\n",
       "        vertical-align: middle;\n",
       "    }\n",
       "\n",
       "    .dataframe tbody tr th {\n",
       "        vertical-align: top;\n",
       "    }\n",
       "\n",
       "    .dataframe thead th {\n",
       "        text-align: right;\n",
       "    }\n",
       "</style>\n",
       "<table border=\"1\" class=\"dataframe\">\n",
       "  <thead>\n",
       "    <tr style=\"text-align: right;\">\n",
       "      <th></th>\n",
       "      <th>key_loja</th>\n",
       "      <th>cod_produto</th>\n",
       "      <th>dt_estoque</th>\n",
       "      <th>primeira_data</th>\n",
       "      <th>qt_estoque</th>\n",
       "      <th>is_ruptura</th>\n",
       "      <th>cod_material_recom</th>\n",
       "      <th>ranking</th>\n",
       "      <th>qt_estoque_similar</th>\n",
       "      <th>similar_disponivel</th>\n",
       "    </tr>\n",
       "  </thead>\n",
       "  <tbody>\n",
       "    <tr>\n",
       "      <th>0</th>\n",
       "      <td>1</td>\n",
       "      <td>1428</td>\n",
       "      <td>2024-01-01</td>\n",
       "      <td>2024-01-01</td>\n",
       "      <td>108.0</td>\n",
       "      <td>0</td>\n",
       "      <td>1650.0</td>\n",
       "      <td>1.0</td>\n",
       "      <td>102.0</td>\n",
       "      <td>1</td>\n",
       "    </tr>\n",
       "    <tr>\n",
       "      <th>1</th>\n",
       "      <td>1</td>\n",
       "      <td>1428</td>\n",
       "      <td>2024-01-01</td>\n",
       "      <td>2024-01-01</td>\n",
       "      <td>108.0</td>\n",
       "      <td>0</td>\n",
       "      <td>1640.0</td>\n",
       "      <td>2.0</td>\n",
       "      <td>83.0</td>\n",
       "      <td>1</td>\n",
       "    </tr>\n",
       "    <tr>\n",
       "      <th>2</th>\n",
       "      <td>1</td>\n",
       "      <td>1428</td>\n",
       "      <td>2024-01-01</td>\n",
       "      <td>2024-01-01</td>\n",
       "      <td>108.0</td>\n",
       "      <td>0</td>\n",
       "      <td>48282.0</td>\n",
       "      <td>3.0</td>\n",
       "      <td>335.0</td>\n",
       "      <td>1</td>\n",
       "    </tr>\n",
       "    <tr>\n",
       "      <th>3</th>\n",
       "      <td>1</td>\n",
       "      <td>1428</td>\n",
       "      <td>2024-01-02</td>\n",
       "      <td>2024-01-01</td>\n",
       "      <td>108.0</td>\n",
       "      <td>0</td>\n",
       "      <td>1650.0</td>\n",
       "      <td>1.0</td>\n",
       "      <td>102.0</td>\n",
       "      <td>1</td>\n",
       "    </tr>\n",
       "    <tr>\n",
       "      <th>4</th>\n",
       "      <td>1</td>\n",
       "      <td>1428</td>\n",
       "      <td>2024-01-02</td>\n",
       "      <td>2024-01-01</td>\n",
       "      <td>108.0</td>\n",
       "      <td>0</td>\n",
       "      <td>1640.0</td>\n",
       "      <td>2.0</td>\n",
       "      <td>83.0</td>\n",
       "      <td>1</td>\n",
       "    </tr>\n",
       "  </tbody>\n",
       "</table>\n",
       "</div>"
      ],
      "text/plain": [
       "   key_loja  cod_produto dt_estoque primeira_data  qt_estoque  is_ruptura  \\\n",
       "0         1         1428 2024-01-01    2024-01-01       108.0           0   \n",
       "1         1         1428 2024-01-01    2024-01-01       108.0           0   \n",
       "2         1         1428 2024-01-01    2024-01-01       108.0           0   \n",
       "3         1         1428 2024-01-02    2024-01-01       108.0           0   \n",
       "4         1         1428 2024-01-02    2024-01-01       108.0           0   \n",
       "\n",
       "   cod_material_recom  ranking  qt_estoque_similar  similar_disponivel  \n",
       "0              1650.0      1.0               102.0                   1  \n",
       "1              1640.0      2.0                83.0                   1  \n",
       "2             48282.0      3.0               335.0                   1  \n",
       "3              1650.0      1.0               102.0                   1  \n",
       "4              1640.0      2.0                83.0                   1  "
      ]
     },
     "execution_count": 22,
     "metadata": {},
     "output_type": "execute_result"
    }
   ],
   "source": [
    "df_estoque_similares = df_estoque.rename(columns={'cod_produto': 'cod_material_recom'})\n",
    "df_rupturas_similares_estoque = df_rupturas_similares.merge(df_estoque_similares, on=['cod_material_recom', 'key_loja', 'dt_estoque'], how='left', suffixes=('', '_similar'))\n",
    "df_rupturas_similares_estoque['similar_disponivel'] = df_rupturas_similares_estoque['qt_estoque_similar'].fillna(0) > 0\n",
    "df_rupturas_similares_estoque['similar_disponivel'] = df_rupturas_similares_estoque['similar_disponivel'].apply(int)\n",
    "df_rupturas_similares_estoque.head()"
   ]
  },
  {
   "cell_type": "code",
   "execution_count": 23,
   "id": "c57dd67c-0595-48f2-a0b0-bf919bab7461",
   "metadata": {},
   "outputs": [
    {
     "name": "stdout",
     "output_type": "stream",
     "text": [
      "   ranking  qtd_rupturas_com_similar  perc_total_rupturas\n",
      "0      1.0                        35            33.653846\n",
      "1      2.0                        31            29.807692\n",
      "2      3.0                        23            22.115385\n"
     ]
    }
   ],
   "source": [
    "cobertura = (\n",
    "    df_rupturas_similares_estoque[df_rupturas_similares_estoque['similar_disponivel']==1]\n",
    "    .groupby('ranking')['cod_produto']\n",
    "    .nunique()\n",
    "    .reset_index(name='qtd_rupturas_com_similar')\n",
    ")\n",
    "\n",
    "cobertura['perc_total_rupturas'] = 100 * cobertura['qtd_rupturas_com_similar'] / df_rupturas['cod_produto'].nunique()\n",
    "print(cobertura)"
   ]
  },
  {
   "cell_type": "code",
   "execution_count": 24,
   "id": "f1ce30de-eee0-4e39-a5d7-2c498aa9d515",
   "metadata": {},
   "outputs": [
    {
     "data": {
      "text/plain": [
       "np.True_"
      ]
     },
     "execution_count": 24,
     "metadata": {},
     "output_type": "execute_result"
    }
   ],
   "source": [
    "total_rupturas = len(df_rupturas)\n",
    "rupturas_com_similar = df_rupturas_similares_estoque['similar_disponivel'].any()\n",
    "rupturas_com_similar\n",
    "# print(f\"Total de rupturas: {total_rupturas}\")\n",
    "# print(f\"Rupturas com pelo menos 1 similar disponível: {rupturas_com_similar.sum()}\")"
   ]
  },
  {
   "cell_type": "code",
   "execution_count": 25,
   "id": "1d0aff82-127f-41af-8e71-9cd0e5c56c81",
   "metadata": {},
   "outputs": [
    {
     "ename": "ModuleNotFoundError",
     "evalue": "No module named 'seaborn'",
     "output_type": "error",
     "traceback": [
      "\u001b[1;31m---------------------------------------------------------------------------\u001b[0m",
      "\u001b[1;31mModuleNotFoundError\u001b[0m                       Traceback (most recent call last)",
      "Cell \u001b[1;32mIn[25], line 2\u001b[0m\n\u001b[0;32m      1\u001b[0m \u001b[38;5;28;01mimport\u001b[39;00m\u001b[38;5;250m \u001b[39m\u001b[38;5;21;01mmatplotlib\u001b[39;00m\u001b[38;5;21;01m.\u001b[39;00m\u001b[38;5;21;01mpyplot\u001b[39;00m\u001b[38;5;250m \u001b[39m\u001b[38;5;28;01mas\u001b[39;00m\u001b[38;5;250m \u001b[39m\u001b[38;5;21;01mplt\u001b[39;00m\n\u001b[1;32m----> 2\u001b[0m \u001b[38;5;28;01mimport\u001b[39;00m\u001b[38;5;250m \u001b[39m\u001b[38;5;21;01mseaborn\u001b[39;00m\u001b[38;5;250m \u001b[39m\u001b[38;5;28;01mas\u001b[39;00m\u001b[38;5;250m \u001b[39m\u001b[38;5;21;01msns\u001b[39;00m\n\u001b[0;32m      4\u001b[0m \u001b[38;5;66;03m# Agrupar: contar quantas rupturas tiveram similar disponível por data e ranking\u001b[39;00m\n\u001b[0;32m      5\u001b[0m heatmap_data \u001b[38;5;241m=\u001b[39m (\n\u001b[0;32m      6\u001b[0m     df_rupturas_similares_estoque[df_rupturas_similares_estoque[\u001b[38;5;124m'\u001b[39m\u001b[38;5;124msimilar_disponivel\u001b[39m\u001b[38;5;124m'\u001b[39m]\u001b[38;5;241m==\u001b[39m\u001b[38;5;241m1\u001b[39m]\n\u001b[0;32m      7\u001b[0m     \u001b[38;5;241m.\u001b[39mgroupby([\u001b[38;5;124m'\u001b[39m\u001b[38;5;124mdt_estoque\u001b[39m\u001b[38;5;124m'\u001b[39m, \u001b[38;5;124m'\u001b[39m\u001b[38;5;124mranking\u001b[39m\u001b[38;5;124m'\u001b[39m])\n\u001b[0;32m      8\u001b[0m     \u001b[38;5;241m.\u001b[39msize()\n\u001b[0;32m      9\u001b[0m     \u001b[38;5;241m.\u001b[39munstack(fill_value\u001b[38;5;241m=\u001b[39m\u001b[38;5;241m0\u001b[39m)\n\u001b[0;32m     10\u001b[0m )\n",
      "\u001b[1;31mModuleNotFoundError\u001b[0m: No module named 'seaborn'"
     ]
    }
   ],
   "source": [
    "import matplotlib.pyplot as plt\n",
    "import seaborn as sns\n",
    "\n",
    "# Agrupar: contar quantas rupturas tiveram similar disponível por data e ranking\n",
    "heatmap_data = (\n",
    "    df_rupturas_similares_estoque[df_rupturas_similares_estoque['similar_disponivel']==1]\n",
    "    .groupby(['dt_estoque', 'ranking'])\n",
    "    .size()\n",
    "    .unstack(fill_value=0)\n",
    ")\n",
    "\n",
    "# Reordenar por data\n",
    "heatmap_data = heatmap_data.sort_index()\n",
    "\n",
    "# Plotar heatmap\n",
    "plt.figure(figsize=(14, 6))\n",
    "sns.heatmap(heatmap_data, cmap='YlGnBu', annot=True, fmt='d', linewidths=0.5)\n",
    "plt.title('Cobertura de Similares por Data e Ranking')\n",
    "plt.xlabel('Ranking do Similar')\n",
    "plt.ylabel('Data da Ruptura')\n",
    "plt.xticks(rotation=0)\n",
    "plt.tight_layout()\n",
    "plt.show()"
   ]
  },
  {
   "cell_type": "code",
   "execution_count": null,
   "id": "b519c91d-6cc7-47e3-a865-ba96a1902f12",
   "metadata": {},
   "outputs": [],
   "source": [
    "total_rupturas = df_rupturas['is_ruptura'].sum()\n",
    "proporcao = np.round((total_rupturas/df_rupturas.shape[0])*100, 2)\n",
    "print(f\"Total de eventos de ruptura: {total_rupturas} ({proporcao}% dos registros de estoque)\")"
   ]
  },
  {
   "cell_type": "markdown",
   "id": "737e5550-cca4-4e28-b12a-290a11223183",
   "metadata": {
    "jp-MarkdownHeadingCollapsed": true
   },
   "source": [
    "### Histórico Rupturas"
   ]
  },
  {
   "cell_type": "code",
   "execution_count": null,
   "id": "bbe47c0a-6dda-482b-a25e-3ace0fe51fa1",
   "metadata": {},
   "outputs": [],
   "source": [
    "rupturas_por_dia = df_rupturas[df_rupturas['is_ruptura']==1].groupby('dt_estoque').size()\n",
    "create_graph_line(rupturas_por_dia, 'Evolução das Rupturas ao Longo do Tempo', 'Data', 'Quantidade de Rupturas')"
   ]
  },
  {
   "cell_type": "code",
   "execution_count": null,
   "id": "d5f6803f-5ad0-4e1c-8902-44470ea71f2e",
   "metadata": {},
   "outputs": [],
   "source": [
    "- Janeiro até um pouco antes do final de maio os niveis de ruptura estavam estaveis proximo a 300 depois do dia 2024-05-30 teve um pico de 350 rupturas e está com tendencia de alta\n",
    "- Será que consigo colocar umas linhas marcando datas relevantes para o varejo?"
   ]
  },
  {
   "cell_type": "code",
   "execution_count": null,
   "id": "e07cf8cb-27bf-4695-a2a6-3f9c50143b1e",
   "metadata": {},
   "outputs": [],
   "source": [
    "rupturas_por_dia_semana = df_rupturas[df_rupturas['is_ruptura']==1].groupby('dia_semana_pt').size()\n",
    "create_graph_line(rupturas_por_dia_semana, 'Evolução das Rupturas ao Longo do Tempo', 'Data', 'Quantidade de Rupturas')"
   ]
  },
  {
   "cell_type": "code",
   "execution_count": null,
   "id": "b0da21d1-e513-4b14-86af-c4e3b9533314",
   "metadata": {},
   "outputs": [],
   "source": [
    "- Segunda e Terças são os períodos que mais apresentam rupturas"
   ]
  },
  {
   "cell_type": "code",
   "execution_count": null,
   "id": "27420791-714a-4d24-86cd-e9b4755060bc",
   "metadata": {},
   "outputs": [],
   "source": [
    "rupturas_por_safra = df_rupturas[df_rupturas['is_ruptura']==1].groupby('ano_mes').size()\n",
    "create_graph_line(rupturas_por_safra, 'Evolução das Rupturas ao Longo do Tempo', 'Data', 'Quantidade de Rupturas')"
   ]
  },
  {
   "cell_type": "code",
   "execution_count": null,
   "id": "656c4a45-ed3f-4174-ad4c-e10892b64938",
   "metadata": {},
   "outputs": [],
   "source": [
    "Desde Junho a tendencia de ruptura só vem aumentando"
   ]
  },
  {
   "cell_type": "markdown",
   "id": "8205b42f-e9e8-4c66-8c25-a8792b57fb26",
   "metadata": {
    "jp-MarkdownHeadingCollapsed": true
   },
   "source": [
    "### Loja"
   ]
  },
  {
   "cell_type": "code",
   "execution_count": null,
   "id": "efdb5a6c-2cea-46c8-bed9-e4aa86f5e69e",
   "metadata": {},
   "outputs": [],
   "source": [
    "rupturas_por_loja = df_rupturas[df_rupturas['is_ruptura']==1].groupby('key_loja').size().sort_values(ascending=False)\n",
    "\n",
    "plt.figure(figsize=(12,6))\n",
    "rupturas_por_loja.head(20).plot(kind='bar')\n",
    "plt.title('Top 20 Lojas com mais Rupturas')\n",
    "plt.xlabel('Loja')\n",
    "plt.ylabel('Quantidade de Rupturas')\n",
    "plt.xticks(rotation=45)\n",
    "plt.grid()\n",
    "plt.show()"
   ]
  },
  {
   "cell_type": "code",
   "execution_count": null,
   "id": "7634d205-dfe8-477a-9c56-1a9da956a845",
   "metadata": {},
   "outputs": [],
   "source": [
    "lojas = df_rupturas['key_loja'].unique()\n",
    "\n",
    "for lj in lojas:\n",
    "    print(lj)\n",
    "    rupturas_por_loja = df_rupturas[(df_rupturas['key_loja']==lj)&(df_rupturas['is_ruptura']==1)].groupby('dt_estoque').size()\n",
    "    \n",
    "    plt.figure(figsize=(12,6))\n",
    "    rupturas_por_loja.plot()\n",
    "    plt.title(f'Evolução das Rupturas ao Longo do Tempo Loja {lj}')\n",
    "    plt.xlabel('Data')\n",
    "    plt.ylabel('Quantidade de Rupturas')\n",
    "    plt.grid()\n",
    "    plt.show()"
   ]
  },
  {
   "cell_type": "code",
   "execution_count": null,
   "id": "7e634805-a051-4f60-8e54-297dc5becee4",
   "metadata": {},
   "outputs": [],
   "source": [
    "- Loja 1 pode ter ocasionado o comportamento de subida de ruptura no começo de junho"
   ]
  },
  {
   "cell_type": "code",
   "execution_count": null,
   "id": "bc02614e-e613-4e9d-938e-751c195992e7",
   "metadata": {},
   "outputs": [],
   "source": [
    "import matplotlib.pyplot as plt\n",
    "\n"
   ]
  },
  {
   "cell_type": "code",
   "execution_count": null,
   "id": "89d323f6-76a4-4360-8dc4-6c1d01217fed",
   "metadata": {},
   "outputs": [],
   "source": [
    "type(rupturas_por_loja)\n",
    "df_rupturas_por_loja = rupturas_por_loja.to_frame()\n",
    "df_rupturas_por_loja.reset_index(inplace=True)\n",
    "df_rupturas_por_loja.rename(columns={\"0\": \"qtd_rupturas\"}, inplace=True)\n",
    "df_rupturas_por_loja.to_csv('df_rupturas_por_loja.csv',index=False)"
   ]
  },
  {
   "cell_type": "markdown",
   "id": "0494aafa-10b5-4c78-801c-b47632243e9b",
   "metadata": {
    "jp-MarkdownHeadingCollapsed": true
   },
   "source": [
    "### SKU"
   ]
  },
  {
   "cell_type": "code",
   "execution_count": null,
   "id": "bca5fcb9-7fbf-49ac-9443-8668f2378438",
   "metadata": {},
   "outputs": [],
   "source": [
    "rupturas_por_sku = df_rupturas[df_rupturas['is_ruptura']==1].groupby('cod_produto').size().sort_values(ascending=False)\n",
    "\n",
    "plt.figure(figsize=(12,6))\n",
    "rupturas_por_sku.head(20).plot(kind='bar')\n",
    "plt.title('Top 20 SKUs com mais Rupturas')\n",
    "plt.xlabel('SKU')\n",
    "plt.ylabel('Quantidade de Rupturas')\n",
    "plt.xticks(rotation=45)\n",
    "plt.grid()\n",
    "plt.show()"
   ]
  },
  {
   "cell_type": "markdown",
   "id": "d3e876a9-5ef6-42b0-9acc-f7a20850f6f1",
   "metadata": {},
   "source": [
    "- Posso olhar a ruptura dos SKUS por essas categorias:\n",
    "    - categoria_produto Código da categoria do produto\n",
    "    - sub_categoria_produto Código da subcategoria do produto\n",
    "    - linha_produto"
   ]
  },
  {
   "cell_type": "code",
   "execution_count": null,
   "id": "fb1c5566-6eaf-4ac9-b32c-85aeb8d43969",
   "metadata": {},
   "outputs": [],
   "source": [
    "df_ruptura_similar = df_rupturas.merge(df_similares, on='cod_produto', how='left')\n",
    "df_ruptura_similar.head()"
   ]
  },
  {
   "cell_type": "code",
   "execution_count": null,
   "id": "d10a08c1-81a3-4072-aadf-321d532ecbeb",
   "metadata": {},
   "outputs": [],
   "source": [
    "df_ruptura_similar"
   ]
  },
  {
   "cell_type": "code",
   "execution_count": null,
   "id": "93481719-7cb8-4fb7-b311-6314e9b0989c",
   "metadata": {},
   "outputs": [],
   "source": [
    "df_ruptura_similar = df_ruptura_similar.merge(\n",
    "    df_estoque,\n",
    "    left_on=['cod_material_recom', 'key_loja', 'dt_estoque'],\n",
    "    right_on=['cod_produto', 'key_loja', 'dt_estoque'],\n",
    "    how='left',\n",
    "    suffixes=('', '_similar')\n",
    ")\n",
    "\n",
    "# Filtrar se o similar tinha estoque disponível (> 0)\n",
    "df_ruptura_similar['similar_disponivel'] = df_ruptura_similar['qt_estoque'] > 0\n",
    "df_ruptura_similar"
   ]
  },
  {
   "cell_type": "code",
   "execution_count": null,
   "id": "f845cd72-e857-41d3-91bb-511e182f6184",
   "metadata": {},
   "outputs": [],
   "source": [
    "df_agrupado = (\n",
    "    df_ruptura_similar\n",
    "    .groupby(['cod_produto', 'key_loja', 'dt_estoque'])['similar_disponivel']\n",
    "    .max()\n",
    "    .reset_index()\n",
    ")\n",
    "\n",
    "df_agrupado"
   ]
  },
  {
   "cell_type": "code",
   "execution_count": null,
   "id": "8d6d6f60-430d-4095-a8ea-4de9e1a8252a",
   "metadata": {},
   "outputs": [],
   "source": [
    "# Se pelo menos um similar estava disponível, max() será True\n",
    "quantidade_rupturas_com_similar = df_agrupado['similar_disponivel'].sum()\n",
    "quantidade_total_rupturas = df_agrupado.shape[0]\n",
    "\n",
    "# Taxa de rupturas com similar disponível\n",
    "taxa_similar_disponivel = quantidade_rupturas_com_similar / quantidade_total_rupturas\n",
    "print(f\"Taxa de rupturas com similar disponível: {taxa_similar_disponivel:.2%}\")"
   ]
  },
  {
   "cell_type": "markdown",
   "id": "5e33ce4b-71c1-4253-89c0-6d740d069de3",
   "metadata": {},
   "source": [
    "Você pode testar se existe diferença na cobertura de similares entre lojas, entre categorias, etc.\n",
    "\n",
    "Por exemplo, usar teste de proporções entre lojas grandes e pequenas."
   ]
  },
  {
   "cell_type": "markdown",
   "id": "541882f5-c5a5-4dc7-b727-5ac242ed7310",
   "metadata": {
    "jp-MarkdownHeadingCollapsed": true
   },
   "source": [
    "#### Como calcular a cobertura de similares por ranking"
   ]
  },
  {
   "cell_type": "code",
   "execution_count": null,
   "id": "28b6ecee-3d53-498c-85be-83bd28f5c8fb",
   "metadata": {},
   "outputs": [],
   "source": [
    "# Agora, calcular a cobertura por ranking\n",
    "cobertura_por_ranking = (\n",
    "    df_ruptura_similar\n",
    "    .groupby('ranking')['similar_disponivel']\n",
    "    .mean()\n",
    "    .reset_index()\n",
    "    .sort_values('ranking')\n",
    ")\n",
    "\n",
    "cobertura_por_ranking['similar_disponivel'] = cobertura_por_ranking['similar_disponivel'] * 100  # Converter para %\n",
    "\n",
    "print(cobertura_por_ranking)"
   ]
  },
  {
   "cell_type": "code",
   "execution_count": null,
   "id": "d28aa47c-876f-4d06-bbd6-b71d952ff980",
   "metadata": {},
   "outputs": [],
   "source": [
    "import matplotlib.pyplot as plt\n",
    "\n",
    "plt.figure(figsize=(10,6))\n",
    "plt.bar(cobertura_por_ranking['ranking'], cobertura_por_ranking['similar_disponivel'])\n",
    "plt.title('Cobertura de Similares por Ranking')\n",
    "plt.xlabel('Ranking do Similar')\n",
    "plt.ylabel('% de Rupturas com Similar Disponível')\n",
    "plt.grid()\n",
    "plt.show()"
   ]
  },
  {
   "cell_type": "markdown",
   "id": "a67ceb48-24ab-4867-b2ac-113813f175b8",
   "metadata": {
    "jp-MarkdownHeadingCollapsed": true
   },
   "source": [
    "#### Cobertura Cumulativa por Ranking"
   ]
  },
  {
   "cell_type": "code",
   "execution_count": null,
   "id": "599bbd2e-00fa-48f4-a7ec-59f2bd45c779",
   "metadata": {},
   "outputs": [],
   "source": [
    "# Agora, para cada ruptura, identificar o primeiro ranking que cobre\n",
    "def primeiro_ranking_cobertura(grupo):\n",
    "    similares_disponiveis = grupo[grupo['similar_disponivel']]\n",
    "    if not similares_disponiveis.empty:\n",
    "        return similares_disponiveis.iloc[0]['ranking']\n",
    "    else:\n",
    "        return None\n",
    "\n",
    "# Aplicar por ruptura\n",
    "primeiro_cobertura = df_ruptura_similar.groupby(['cod_produto', 'key_loja', 'dt_estoque']).apply(primeiro_ranking_cobertura).reset_index(name='ranking_cobertura')\n",
    "primeiro_cobertura"
   ]
  },
  {
   "cell_type": "code",
   "execution_count": null,
   "id": "b8db909e-9702-4761-b590-993c8eb597a4",
   "metadata": {},
   "outputs": [],
   "source": [
    "cobertura_cumulativa = (\n",
    "    primeiro_cobertura['ranking_cobertura']\n",
    "    .value_counts(dropna=False)\n",
    "    .reset_index()\n",
    "    .rename(columns={'ranking_cobertura': 'ranking', 'count': 'quantidade'})\n",
    "    # .sort_values('ranking')\n",
    ")\n",
    "\n",
    "cobertura_cumulativa"
   ]
  },
  {
   "cell_type": "code",
   "execution_count": null,
   "id": "71adcc01-37a8-4659-a08a-d95d82cb33bb",
   "metadata": {},
   "outputs": [],
   "source": [
    "df_ruptura_similar['ranking'].value_counts()"
   ]
  },
  {
   "cell_type": "code",
   "execution_count": null,
   "id": "dd006353-be97-43dd-a5b1-176cc763f98c",
   "metadata": {},
   "outputs": [],
   "source": [
    "# Calcular % relativo\n",
    "total_rupturas = primeiro_cobertura.shape[0]\n",
    "cobertura_cumulativa['percentual'] = cobertura_cumulativa['quantidade'] / total_rupturas * 100\n",
    "\n",
    "print(cobertura_cumulativa)"
   ]
  },
  {
   "cell_type": "code",
   "execution_count": null,
   "id": "a710f20c-b913-4ea1-bd0b-323dcb238492",
   "metadata": {},
   "outputs": [],
   "source": [
    "import matplotlib.pyplot as plt\n",
    "\n",
    "plt.figure(figsize=(10,6))\n",
    "plt.plot(distribuicao_cobertura['ranking'], distribuicao_cobertura['cobertura_acumulada'], marker='o')\n",
    "plt.title('Cobertura Cumulativa de Similares por Ranking')\n",
    "plt.xlabel('Ranking do Similar que Cobre a Ruptura')\n",
    "plt.ylabel('% Acumulado de Rupturas Cobertas')\n",
    "plt.xticks(distribuicao_cobertura['ranking'])\n",
    "plt.grid()\n",
    "plt.show()"
   ]
  },
  {
   "cell_type": "code",
   "execution_count": null,
   "id": "f66fc02a-70a9-49ff-8ef2-24fcbdfc7a0c",
   "metadata": {},
   "outputs": [],
   "source": []
  },
  {
   "cell_type": "code",
   "execution_count": null,
   "id": "600b5bba-df18-4d9e-9d4c-0f74af75166c",
   "metadata": {},
   "outputs": [],
   "source": []
  },
  {
   "cell_type": "code",
   "execution_count": null,
   "id": "eaa56682-2844-448c-bb93-d817588df6f2",
   "metadata": {},
   "outputs": [],
   "source": []
  },
  {
   "cell_type": "code",
   "execution_count": null,
   "id": "9e705a30-c932-40df-aeed-bee976100e0f",
   "metadata": {},
   "outputs": [],
   "source": []
  },
  {
   "cell_type": "code",
   "execution_count": null,
   "id": "c08fc6e8-552b-4c36-9733-d8a5b7ceb2c7",
   "metadata": {},
   "outputs": [],
   "source": []
  }
 ],
 "metadata": {
  "kernelspec": {
   "display_name": "Python 3 (ipykernel)",
   "language": "python",
   "name": "python3"
  },
  "language_info": {
   "codemirror_mode": {
    "name": "ipython",
    "version": 3
   },
   "file_extension": ".py",
   "mimetype": "text/x-python",
   "name": "python",
   "nbconvert_exporter": "python",
   "pygments_lexer": "ipython3",
   "version": "3.10.2"
  }
 },
 "nbformat": 4,
 "nbformat_minor": 5
}
